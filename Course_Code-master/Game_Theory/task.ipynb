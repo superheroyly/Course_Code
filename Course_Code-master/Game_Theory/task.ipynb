{
 "cells": [
  {
   "cell_type": "markdown",
   "metadata": {},
   "source": [
    "## 1. 纳什均衡计算+代码实现"
   ]
  },
  {
   "cell_type": "code",
   "execution_count": 20,
   "metadata": {},
   "outputs": [],
   "source": [
    "import numpy as np\n",
    "\n",
    "# Question from: https://allisonluedtke.github.io/wobsite/PythonPaper103.pdf\n",
    "\n",
    "matrix = np.array([\n",
    "    [[3,1], [2,3], [10, 2]],\n",
    "    [[4,5], [3,0], [6, 4]],\n",
    "    [[2,2], [5,4], [12, 3]],\n",
    "    [[5,6], [4, 5], [9, 7]],\n",
    "])\n",
    "\n",
    "\n",
    "row, col = matrix.shape[:2]\n",
    "cur_row, cur_col = 0, 0\n",
    "ans_row, ans_col = 0, 0\n",
    "temp_row, temp_col = 0, 0\n",
    "seq = 1  # represent direction 0 - col, 1 - row \n",
    "value = 0  # for max payoffs set min value according to the detailed example"
   ]
  },
  {
   "cell_type": "code",
   "execution_count": 21,
   "metadata": {},
   "outputs": [
    {
     "name": "stdout",
     "output_type": "stream",
     "text": [
      "2 1\n",
      "[5 4]\n"
     ]
    }
   ],
   "source": [
    "while True:\n",
    "    if(seq == 1):  # start with row firstly\n",
    "        for i in range(row):\n",
    "            if(matrix[i][cur_col][0] > value):\n",
    "                value = matrix[i][cur_col][0]\n",
    "                temp_row, temp_col = i, cur_col\n",
    "                cur_row = i\n",
    "        if(temp_row == ans_row and temp_col == ans_col):\n",
    "            break\n",
    "        else:\n",
    "            ans_row, ans_col = temp_row, temp_col\n",
    "    else:\n",
    "        for i in range(col):\n",
    "            if(matrix[cur_row][i][1] > value):\n",
    "                value = matrix[cur_row][i][1]\n",
    "                temp_row, temp_col = cur_row, i\n",
    "                cur_col = i\n",
    "\n",
    "        if(temp_row == ans_row and temp_col == ans_col):\n",
    "            break\n",
    "        else:\n",
    "            ans_row, ans_col = temp_row, temp_col\n",
    "\n",
    "    seq = 0 if seq == 1 else 1\n",
    "    value = 0\n",
    "\n",
    "print(ans_row, ans_col)\n",
    "print(matrix[ans_row][ans_col])\n"
   ]
  },
  {
   "cell_type": "markdown",
   "metadata": {},
   "source": [
    "# 2. 博弈均衡   "
   ]
  },
  {
   "cell_type": "code",
   "execution_count": 1,
   "metadata": {},
   "outputs": [
    {
     "name": "stdout",
     "output_type": "stream",
     "text": [
      "123\n"
     ]
    }
   ],
   "source": []
  }
 ],
 "metadata": {
  "kernelspec": {
   "display_name": "base",
   "language": "python",
   "name": "python3"
  },
  "language_info": {
   "codemirror_mode": {
    "name": "ipython",
    "version": 3
   },
   "file_extension": ".py",
   "mimetype": "text/x-python",
   "name": "python",
   "nbconvert_exporter": "python",
   "pygments_lexer": "ipython3",
   "version": "3.12.4"
  }
 },
 "nbformat": 4,
 "nbformat_minor": 2
}
